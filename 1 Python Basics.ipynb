{
 "cells": [
  {
   "cell_type": "markdown",
   "metadata": {},
   "source": [
    "# Python Basics NoteBook"
   ]
  },
  {
   "cell_type": "code",
   "execution_count": 1,
   "metadata": {},
   "outputs": [
    {
     "name": "stdout",
     "output_type": "stream",
     "text": [
      "3.8.5\n"
     ]
    }
   ],
   "source": [
    "#Write a Python code to return your Python version\n",
    "from platform import python_version\n",
    "\n",
    "print(python_version())\n"
   ]
  },
  {
   "cell_type": "code",
   "execution_count": 2,
   "metadata": {},
   "outputs": [
    {
     "name": "stdout",
     "output_type": "stream",
     "text": [
      "customer id = 513\n"
     ]
    }
   ],
   "source": [
    "#Write a Python code to declare variable id=\"513\". \n",
    "#Print the following statement \"customer id =513\". [Don't use print(\"customer id =513\")]\n",
    "\n",
    "a=513 \n",
    "\n",
    "print (\"customer id =\" , a)\n",
    "\n",
    "\n",
    "\n"
   ]
  },
  {
   "cell_type": "code",
   "execution_count": 3,
   "metadata": {},
   "outputs": [
    {
     "ename": "TypeError",
     "evalue": "unsupported operand type(s) for +: 'builtin_function_or_method' and 'int'",
     "output_type": "error",
     "traceback": [
      "\u001b[1;31m---------------------------------------------------------------------------\u001b[0m",
      "\u001b[1;31mTypeError\u001b[0m                                 Traceback (most recent call last)",
      "\u001b[1;32m<ipython-input-3-0058f8acff13>\u001b[0m in \u001b[0;36m<module>\u001b[1;34m\u001b[0m\n\u001b[0;32m      1\u001b[0m \u001b[1;31m#Run the following statement, why there is an error\u001b[0m\u001b[1;33m\u001b[0m\u001b[1;33m\u001b[0m\u001b[1;33m\u001b[0m\u001b[0m\n\u001b[0;32m      2\u001b[0m \u001b[1;33m\u001b[0m\u001b[0m\n\u001b[1;32m----> 3\u001b[1;33m \u001b[0mid\u001b[0m\u001b[1;33m=\u001b[0m\u001b[0mid\u001b[0m\u001b[1;33m+\u001b[0m\u001b[1;36m1\u001b[0m\u001b[1;33m\u001b[0m\u001b[1;33m\u001b[0m\u001b[0m\n\u001b[0m\u001b[0;32m      4\u001b[0m \u001b[1;33m\u001b[0m\u001b[0m\n\u001b[0;32m      5\u001b[0m \u001b[1;31m#id is a keyword in python\u001b[0m\u001b[1;33m\u001b[0m\u001b[1;33m\u001b[0m\u001b[1;33m\u001b[0m\u001b[0m\n",
      "\u001b[1;31mTypeError\u001b[0m: unsupported operand type(s) for +: 'builtin_function_or_method' and 'int'"
     ]
    }
   ],
   "source": [
    "#Run the following statement, why there is an error\n",
    "\n",
    "id=id+1\n",
    "\n",
    "#id is a keyword in python"
   ]
  },
  {
   "cell_type": "code",
   "execution_count": 7,
   "metadata": {},
   "outputs": [
    {
     "name": "stdout",
     "output_type": "stream",
     "text": [
      "6\n"
     ]
    }
   ],
   "source": [
    "#Convert the variable id into an integer, increment it by 1.\n",
    "#Assign the result to variable new_id.\n",
    "#Print the new_id\n",
    "\n",
    "new_id = 5\n",
    "new_id = new_id +1\n",
    "\n",
    "print (new_id)\n"
   ]
  },
  {
   "cell_type": "code",
   "execution_count": 16,
   "metadata": {},
   "outputs": [
    {
     "name": "stdout",
     "output_type": "stream",
     "text": [
      "Twinkle, twinkle, little star, \n",
      "\tHow I wonder what you are! \n",
      "\t\tUp above the world so high, \n",
      "\t\t\tLike a diamond in the sky.\n"
     ]
    }
   ],
   "source": [
    "#Write a Python code to print the following string in a specific format (see the output). \n",
    "\n",
    "# Twinkle, twinkle, little star, \n",
    "#     How I wonder what you are! \n",
    "#        Up above the world so high, \n",
    "#            Like a diamond in the sky.\n",
    "\n",
    "\n",
    "#***************** Answer ***************#\n",
    "\n",
    "print(\"Twinkle, twinkle, little star, \\n\\tHow I wonder what you are! \\n\\t\\tUp above the world so high, \\n\\t\\t\\tLike a diamond in the sky.\")\n",
    "\n",
    "\n",
    "\n",
    "\n",
    "\n"
   ]
  },
  {
   "cell_type": "code",
   "execution_count": 5,
   "metadata": {},
   "outputs": [
    {
     "name": "stdout",
     "output_type": "stream",
     "text": [
      "P\n"
     ]
    }
   ],
   "source": [
    "#Givin the following string variable, # Print the first element in the string\n",
    "\n",
    "course=\"Python for Data Science\"\n",
    "\n",
    "#***************** Answer ***************#\n",
    "\n",
    "print(course[0])"
   ]
  },
  {
   "cell_type": "code",
   "execution_count": 4,
   "metadata": {},
   "outputs": [
    {
     "name": "stdout",
     "output_type": "stream",
     "text": [
      "a\n"
     ]
    }
   ],
   "source": [
    "# Print the element on the 13th index in the string\n",
    "\n",
    "\n",
    "#***************** Answer ***************#\n",
    "\n",
    "\n",
    "\n",
    "print(course[12])\n"
   ]
  },
  {
   "cell_type": "code",
   "execution_count": 7,
   "metadata": {},
   "outputs": [
    {
     "data": {
      "text/plain": [
       "23"
      ]
     },
     "execution_count": 7,
     "metadata": {},
     "output_type": "execute_result"
    }
   ],
   "source": [
    "# Find the length of string\n",
    "\n",
    "\n",
    "#***************** Answer ***************#\n",
    "\n",
    "len(course)\n",
    "\n"
   ]
  },
  {
   "cell_type": "code",
   "execution_count": 8,
   "metadata": {},
   "outputs": [
    {
     "name": "stdout",
     "output_type": "stream",
     "text": [
      "e\n"
     ]
    }
   ],
   "source": [
    "# Print the last element in the string [use negative index]\n",
    "\n",
    "#***************** Answer ***************#\n",
    "\n",
    "\n",
    "\n",
    "print(course[-1])\n",
    "\n"
   ]
  },
  {
   "cell_type": "code",
   "execution_count": 10,
   "metadata": {},
   "outputs": [
    {
     "name": "stdout",
     "output_type": "stream",
     "text": [
      " Data\n"
     ]
    }
   ],
   "source": [
    "# Take the slice on variable course with only index 11 to index 14\n",
    "\n",
    "#***************** Answer ***************#\n",
    "\n",
    "print(course[10:15])\n",
    "\n",
    "\n"
   ]
  },
  {
   "cell_type": "code",
   "execution_count": 22,
   "metadata": {},
   "outputs": [
    {
     "name": "stdout",
     "output_type": "stream",
     "text": [
      "Ph ra i\n"
     ]
    }
   ],
   "source": [
    "# Get every third element in the range from index 0 to index 20\n",
    "\n",
    "#***************** Answer ***************#\n",
    "\n",
    "course=\"Python for Data Science\"\n",
    "\n",
    "print(course[0:21:3])\n"
   ]
  },
  {
   "cell_type": "code",
   "execution_count": 23,
   "metadata": {},
   "outputs": [
    {
     "name": "stdout",
     "output_type": "stream",
     "text": [
      "Python for Data Science AI & Development\n"
     ]
    }
   ],
   "source": [
    "# Concatenate course string with \", AI & Development\"\n",
    "\n",
    "#***************** Answer ***************#\n",
    "\n",
    "course = course + \" AI & Development\" \n",
    "print(course)\n"
   ]
  },
  {
   "cell_type": "code",
   "execution_count": 24,
   "metadata": {},
   "outputs": [
    {
     "name": "stdout",
     "output_type": "stream",
     "text": [
      "Python_for_Data_Science_AI_&_Development\n"
     ]
    }
   ],
   "source": [
    "# Replace all the spaces with (_). New string should looks like\"Python_for_Data_Science,_AI_&_Development\"\n",
    "\n",
    "#***************** Answer ***************#\n",
    "\n",
    "\n",
    "course = course.replace(\" \", \"_\")\n",
    "\n",
    "print(course)\n"
   ]
  },
  {
   "cell_type": "code",
   "execution_count": 25,
   "metadata": {},
   "outputs": [
    {
     "name": "stdout",
     "output_type": "stream",
     "text": [
      "PYTHON_FOR_DATA_SCIENCE_AI_&_DEVELOPMENT\n"
     ]
    }
   ],
   "source": [
    "# Convert all the characters in string to upper case\n",
    "\n",
    "#***************** Answer ***************#\n",
    "\n",
    "\n",
    "\n",
    "course = course.upper()\n",
    "\n",
    "print(course)\n"
   ]
  },
  {
   "cell_type": "code",
   "execution_count": null,
   "metadata": {},
   "outputs": [],
   "source": []
  }
 ],
 "metadata": {
  "kernelspec": {
   "display_name": "Python 3",
   "language": "python",
   "name": "python3"
  },
  "language_info": {
   "codemirror_mode": {
    "name": "ipython",
    "version": 3
   },
   "file_extension": ".py",
   "mimetype": "text/x-python",
   "name": "python",
   "nbconvert_exporter": "python",
   "pygments_lexer": "ipython3",
   "version": "3.8.5"
  }
 },
 "nbformat": 4,
 "nbformat_minor": 4
}
