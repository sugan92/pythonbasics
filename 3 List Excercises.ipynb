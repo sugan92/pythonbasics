{
 "cells": [
  {
   "cell_type": "code",
   "execution_count": 60,
   "metadata": {
    "scrolled": true
   },
   "outputs": [
    {
     "data": {
      "text/plain": [
       "('Adam',\n",
       " 'Aijinkya',\n",
       " 'Akash',\n",
       " 'Alka',\n",
       " 'Dami',\n",
       " 'Gilmara',\n",
       " 'Imara',\n",
       " 'Rasha',\n",
       " 'Sowjanya',\n",
       " 'Pray')"
      ]
     },
     "execution_count": 60,
     "metadata": {},
     "output_type": "execute_result"
    }
   ],
   "source": [
    "#Q1 Create a tuple with all participant names in the JDA program\n",
    "\n",
    "tuple_JDA = (\"Adam\",\"Aijinkya\",\"Akash\",\"Alka\",\"Dami\",\"Gilmara\",\"Imara\",\"Rasha\",\"Sowjanya\",\"Pray\")\n",
    "tuple_JDA"
   ]
  },
  {
   "cell_type": "code",
   "execution_count": 62,
   "metadata": {},
   "outputs": [
    {
     "name": "stdout",
     "output_type": "stream",
     "text": [
      "['Adam', 'Aijinkya', 'Akash', 'Alka', 'Dami', 'Gilmara', 'Imara', 'Rasha', 'Sowjanya', 'Pray']\n"
     ]
    }
   ],
   "source": [
    "#Q2 Convert the tuple into a list called pps_L\n",
    "\n",
    "\n",
    "pps_L = list(tuple_JDA)\n",
    "print(pps_L)"
   ]
  },
  {
   "cell_type": "code",
   "execution_count": 63,
   "metadata": {},
   "outputs": [
    {
     "data": {
      "text/plain": [
       "10"
      ]
     },
     "execution_count": 63,
     "metadata": {},
     "output_type": "execute_result"
    }
   ],
   "source": [
    "#Q3 What is the length of your list \n",
    "\n",
    "len(pps_L)"
   ]
  },
  {
   "cell_type": "code",
   "execution_count": 64,
   "metadata": {},
   "outputs": [
    {
     "name": "stdout",
     "output_type": "stream",
     "text": [
      "Alka Gilmara\n"
     ]
    }
   ],
   "source": [
    "#Q4 Find the values stored in indexes [3],[5],[14],[30],[38]\n",
    "\n",
    "pps_L[3]\n",
    "pps_L[5]\n",
    "#pps_L[14]\n",
    "#pps_L[30]\n",
    "#pps_L[38]\n",
    "\n",
    "print (pps_L[3],pps_L[5])"
   ]
  },
  {
   "cell_type": "code",
   "execution_count": 65,
   "metadata": {},
   "outputs": [
    {
     "data": {
      "text/plain": [
       "False"
      ]
     },
     "execution_count": 65,
     "metadata": {},
     "output_type": "execute_result"
    }
   ],
   "source": [
    "#Q5 Check if \"Sarah\" is in the list\n",
    "\n",
    "\"Sarah\" in pps_L"
   ]
  },
  {
   "cell_type": "code",
   "execution_count": 66,
   "metadata": {},
   "outputs": [
    {
     "data": {
      "text/plain": [
       "['Adam',\n",
       " 'Aijinkya',\n",
       " 'Akash',\n",
       " 'Alka',\n",
       " 'Dami',\n",
       " 'Gilmara',\n",
       " 'Imara',\n",
       " 'Rasha',\n",
       " 'Sowjanya',\n",
       " 'Pray',\n",
       " 'Sarah']"
      ]
     },
     "execution_count": 66,
     "metadata": {},
     "output_type": "execute_result"
    }
   ],
   "source": [
    "#Q6 Add \"Sarah\" to your list\n",
    "\n",
    "\n",
    "pps_L.append(\"Sarah\")\n",
    "pps_L\n",
    "\n"
   ]
  },
  {
   "cell_type": "code",
   "execution_count": 67,
   "metadata": {},
   "outputs": [
    {
     "data": {
      "text/plain": [
       "False"
      ]
     },
     "execution_count": 67,
     "metadata": {},
     "output_type": "execute_result"
    }
   ],
   "source": [
    "#Q7 Check if \"Bashir\" is in the list\n",
    "\n",
    "\"Bashir\" in pps_L"
   ]
  },
  {
   "cell_type": "code",
   "execution_count": 68,
   "metadata": {},
   "outputs": [
    {
     "data": {
      "text/plain": [
       "['Adam',\n",
       " 'Aijinkya',\n",
       " 'Akash',\n",
       " 'Alka',\n",
       " 'Dami',\n",
       " 'Gilmara',\n",
       " 'Imara',\n",
       " 'Rasha',\n",
       " 'Sowjanya',\n",
       " 'Pray',\n",
       " 'Sarah',\n",
       " 'Bashir']"
      ]
     },
     "execution_count": 68,
     "metadata": {},
     "output_type": "execute_result"
    }
   ],
   "source": [
    "#Q9 Add \"Bashir\" to your list\n",
    "pps_L.append(\"Bashir\")\n",
    "pps_L"
   ]
  },
  {
   "cell_type": "code",
   "execution_count": 69,
   "metadata": {},
   "outputs": [
    {
     "data": {
      "text/plain": [
       "10"
      ]
     },
     "execution_count": 69,
     "metadata": {},
     "output_type": "execute_result"
    }
   ],
   "source": [
    "#Q10 Find the index of the element \"Sarah\" in the list\n",
    "\n",
    "\n",
    "#x = fruits.index(\"cherry\")\n",
    "#print(x)\n",
    "\n",
    "#x=pps_L.index(\"Sarah\")\n",
    "\n",
    "#print(x)\n",
    "\n",
    "\n",
    "pps_L.index (\"Sarah\")\n",
    "\n"
   ]
  },
  {
   "cell_type": "code",
   "execution_count": 72,
   "metadata": {},
   "outputs": [
    {
     "data": {
      "text/plain": [
       "True"
      ]
     },
     "execution_count": 72,
     "metadata": {},
     "output_type": "execute_result"
    }
   ],
   "source": [
    "#Q11 Change the value of the index in Q10 from \"Sarah\" to \"Instructor\"\n",
    "\n",
    "\n",
    "pps_L[10] = \"Instructor\"\n",
    "\n",
    "\"Instructor\" in pps_L\n",
    "\n",
    "\n"
   ]
  },
  {
   "cell_type": "code",
   "execution_count": 73,
   "metadata": {},
   "outputs": [
    {
     "data": {
      "text/plain": [
       "11"
      ]
     },
     "execution_count": 73,
     "metadata": {},
     "output_type": "execute_result"
    }
   ],
   "source": [
    "#Q12 Find the index of the element \"Bashir\" in the list\n",
    "\n",
    "\n",
    "pps_L.index (\"Bashir\")\n"
   ]
  },
  {
   "cell_type": "code",
   "execution_count": 74,
   "metadata": {},
   "outputs": [
    {
     "data": {
      "text/plain": [
       "True"
      ]
     },
     "execution_count": 74,
     "metadata": {},
     "output_type": "execute_result"
    }
   ],
   "source": [
    "#Q13 Change the value of the index in Q12 from \"Bashir\" to \"Peer-Mentor\"\n",
    "\n",
    "pps_L[11] = \"Peer-Mentor\"\n",
    "\n",
    "\n",
    "\"Peer-Mentor\" in pps_L\n",
    "\n"
   ]
  },
  {
   "cell_type": "code",
   "execution_count": 75,
   "metadata": {},
   "outputs": [
    {
     "name": "stdout",
     "output_type": "stream",
     "text": [
      "['Adam', 'Aijinkya', 'Akash', 'Alka', 'Dami', 'Gilmara', 'Imara', 'Rasha', 'Sowjanya', 'Pray', 'Instructor', 'Peer-Mentor']\n"
     ]
    }
   ],
   "source": [
    "print(pps_L) "
   ]
  },
  {
   "cell_type": "code",
   "execution_count": 77,
   "metadata": {},
   "outputs": [],
   "source": [
    "#Remove Values\n",
    "\n",
    "pps_L.remove(\"Alka\")"
   ]
  },
  {
   "cell_type": "code",
   "execution_count": 100,
   "metadata": {},
   "outputs": [
    {
     "name": "stdout",
     "output_type": "stream",
     "text": [
      "['Adam', 'Aijinkya', 'Akash', 'Alka', 'Dami', 'Gilmara', 'Imara', 'Rasha', 'Sowjanya', 'Pray', 'pray', 'Bashir', 'Bashir', 'Bashir', 'Bashir']\n"
     ]
    }
   ],
   "source": [
    "print(pps_L) "
   ]
  },
  {
   "cell_type": "code",
   "execution_count": 96,
   "metadata": {},
   "outputs": [],
   "source": [
    "pps_L.append(\"Bashir\")\n",
    "pps_L"
   ]
  },
  {
   "cell_type": "code",
   "execution_count": 101,
   "metadata": {},
   "outputs": [
    {
     "data": {
      "text/plain": [
       "15"
      ]
     },
     "execution_count": 101,
     "metadata": {},
     "output_type": "execute_result"
    }
   ],
   "source": [
    "\n",
    "len(pps_L)"
   ]
  },
  {
   "cell_type": "code",
   "execution_count": 103,
   "metadata": {},
   "outputs": [
    {
     "name": "stdout",
     "output_type": "stream",
     "text": [
      "First Index of element \"Bashir\" in the list :  11\n"
     ]
    }
   ],
   "source": [
    "#How to find the 2nd occurance of the element in a list\n",
    "\n",
    "#list.index(pps_L[, 0[, 13]])\n",
    "\n",
    "element = \"Bashir\"\n",
    "\n",
    "# Find index position of first occurrence of 'Bashir' in the list\n",
    "\n",
    "index_position = pps_L.index(element)\n",
    "print(f'First Index of element \"{element}\" in the list : ', index_position)\n",
    "\n",
    "\n",
    "\n",
    "\n"
   ]
  },
  {
   "cell_type": "code",
   "execution_count": 107,
   "metadata": {},
   "outputs": [
    {
     "name": "stdout",
     "output_type": "stream",
     "text": [
      "[11, 12, 13, 14]\n"
     ]
    }
   ],
   "source": [
    "#How to find the nth occurance of the element in a list\n",
    "\n",
    "#using for Loop\n",
    "#This is our list\n",
    "\n",
    "#Initialize an empty list.\n",
    "#Use a for-loop to iterate though each element in the original list. \n",
    "#For each occurrence of the desired element, append its index to the empty list.\n",
    "\n",
    "\n",
    "indices = []\n",
    "for i in range(len(pps_L)):\n",
    "\n",
    "   if pps_L[i] == \"Bashir\":\n",
    "      indices.append(i)\n",
    "\n",
    "print(indices)\n",
    "\n",
    "\n",
    "\n"
   ]
  },
  {
   "cell_type": "code",
   "execution_count": 105,
   "metadata": {},
   "outputs": [
    {
     "name": "stdout",
     "output_type": "stream",
     "text": [
      "[9, 10]\n"
     ]
    }
   ],
   "source": [
    "pps_List = ['Adam', 'Aijinkya', 'Akash', 'Alka', 'Dami', 'Gilmara', 'Imara', 'Rasha', 'Sowjanya', 'pray','pray']\n",
    "pps_List\n",
    "\n",
    "indices = []\n",
    "for i in range(len(pps_List)):\n",
    "\n",
    "\n",
    "   if pps_List[i] == \"pray\":\n",
    "      indices.append(i)\n",
    "\n",
    "print(indices)\n"
   ]
  },
  {
   "cell_type": "code",
   "execution_count": null,
   "metadata": {},
   "outputs": [],
   "source": []
  }
 ],
 "metadata": {
  "kernelspec": {
   "display_name": "Python 3",
   "language": "python",
   "name": "python3"
  },
  "language_info": {
   "codemirror_mode": {
    "name": "ipython",
    "version": 3
   },
   "file_extension": ".py",
   "mimetype": "text/x-python",
   "name": "python",
   "nbconvert_exporter": "python",
   "pygments_lexer": "ipython3",
   "version": "3.8.5"
  }
 },
 "nbformat": 4,
 "nbformat_minor": 4
}
